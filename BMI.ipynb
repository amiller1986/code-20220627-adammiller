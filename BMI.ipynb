{
 "cells": [
  {
   "cell_type": "code",
   "execution_count": 24,
   "id": "886dbb60-a66e-43c0-a1d9-c0e644d7505e",
   "metadata": {},
   "outputs": [],
   "source": [
    "import pandas as pd\n",
    "import numpy as np"
   ]
  },
  {
   "cell_type": "code",
   "execution_count": 13,
   "id": "62da3989-da5c-46e6-9a5b-ebe98e1bbd29",
   "metadata": {},
   "outputs": [],
   "source": [
    "data_json = r'[{\"Gender\": \"Male\", \"HeightCm\": 171, \"WeightKg\": 96 },{ \"Gender\": \"Male\", \"HeightCm\": 161, \"WeightKg\": 85 },{ \"Gender\": \"Male\", \"HeightCm\": 180, \"WeightKg\": 77 },{ \"Gender\": \"Female\", \"HeightCm\": 166, \"WeightKg\": 62},{\"Gender\": \"Female\", \"HeightCm\": 150, \"WeightKg\": 70},{\"Gender\": \"Female\", \"HeightCm\": 167, \"WeightKg\": 82}]'"
   ]
  },
  {
   "cell_type": "code",
   "execution_count": 14,
   "id": "e06e5fc6-b3a2-46ae-92f0-dc6d70a1860c",
   "metadata": {},
   "outputs": [
    {
     "data": {
      "text/plain": [
       "'[{\"Gender\": \"Male\", \"HeightCm\": 171, \"WeightKg\": 96 },{ \"Gender\": \"Male\", \"HeightCm\": 161, \"WeightKg\": 85 },{ \"Gender\": \"Male\", \"HeightCm\": 180, \"WeightKg\": 77 },{ \"Gender\": \"Female\", \"HeightCm\": 166, \"WeightKg\": 62},{\"Gender\": \"Female\", \"HeightCm\": 150, \"WeightKg\": 70},{\"Gender\": \"Female\", \"HeightCm\": 167, \"WeightKg\": 82}]'"
      ]
     },
     "execution_count": 14,
     "metadata": {},
     "output_type": "execute_result"
    }
   ],
   "source": [
    "data_json"
   ]
  },
  {
   "cell_type": "code",
   "execution_count": 15,
   "id": "e8ab8514-8454-4681-b706-ade175ed74db",
   "metadata": {},
   "outputs": [],
   "source": [
    "df = pd.read_json(data_json,orient='records')"
   ]
  },
  {
   "cell_type": "code",
   "execution_count": 16,
   "id": "227742b0-0574-4e0f-8c0d-0f1b2d2158e3",
   "metadata": {},
   "outputs": [
    {
     "data": {
      "text/html": [
       "<div>\n",
       "<style scoped>\n",
       "    .dataframe tbody tr th:only-of-type {\n",
       "        vertical-align: middle;\n",
       "    }\n",
       "\n",
       "    .dataframe tbody tr th {\n",
       "        vertical-align: top;\n",
       "    }\n",
       "\n",
       "    .dataframe thead th {\n",
       "        text-align: right;\n",
       "    }\n",
       "</style>\n",
       "<table border=\"1\" class=\"dataframe\">\n",
       "  <thead>\n",
       "    <tr style=\"text-align: right;\">\n",
       "      <th></th>\n",
       "      <th>Gender</th>\n",
       "      <th>HeightCm</th>\n",
       "      <th>WeightKg</th>\n",
       "    </tr>\n",
       "  </thead>\n",
       "  <tbody>\n",
       "    <tr>\n",
       "      <th>0</th>\n",
       "      <td>Male</td>\n",
       "      <td>171</td>\n",
       "      <td>96</td>\n",
       "    </tr>\n",
       "    <tr>\n",
       "      <th>1</th>\n",
       "      <td>Male</td>\n",
       "      <td>161</td>\n",
       "      <td>85</td>\n",
       "    </tr>\n",
       "    <tr>\n",
       "      <th>2</th>\n",
       "      <td>Male</td>\n",
       "      <td>180</td>\n",
       "      <td>77</td>\n",
       "    </tr>\n",
       "    <tr>\n",
       "      <th>3</th>\n",
       "      <td>Female</td>\n",
       "      <td>166</td>\n",
       "      <td>62</td>\n",
       "    </tr>\n",
       "    <tr>\n",
       "      <th>4</th>\n",
       "      <td>Female</td>\n",
       "      <td>150</td>\n",
       "      <td>70</td>\n",
       "    </tr>\n",
       "    <tr>\n",
       "      <th>5</th>\n",
       "      <td>Female</td>\n",
       "      <td>167</td>\n",
       "      <td>82</td>\n",
       "    </tr>\n",
       "  </tbody>\n",
       "</table>\n",
       "</div>"
      ],
      "text/plain": [
       "   Gender  HeightCm  WeightKg\n",
       "0    Male       171        96\n",
       "1    Male       161        85\n",
       "2    Male       180        77\n",
       "3  Female       166        62\n",
       "4  Female       150        70\n",
       "5  Female       167        82"
      ]
     },
     "metadata": {},
     "output_type": "display_data"
    }
   ],
   "source": [
    "display(df)"
   ]
  },
  {
   "cell_type": "code",
   "execution_count": 22,
   "id": "0ebfaa57-cc44-47e3-9fea-3c73d792813a",
   "metadata": {},
   "outputs": [],
   "source": [
    "df['BMI'] = df['WeightKg'] / (df['HeightCm']/100)**2"
   ]
  },
  {
   "cell_type": "code",
   "execution_count": 23,
   "id": "81eb5247-69ab-4d49-a7f7-08f2a4bcf261",
   "metadata": {},
   "outputs": [
    {
     "data": {
      "text/html": [
       "<div>\n",
       "<style scoped>\n",
       "    .dataframe tbody tr th:only-of-type {\n",
       "        vertical-align: middle;\n",
       "    }\n",
       "\n",
       "    .dataframe tbody tr th {\n",
       "        vertical-align: top;\n",
       "    }\n",
       "\n",
       "    .dataframe thead th {\n",
       "        text-align: right;\n",
       "    }\n",
       "</style>\n",
       "<table border=\"1\" class=\"dataframe\">\n",
       "  <thead>\n",
       "    <tr style=\"text-align: right;\">\n",
       "      <th></th>\n",
       "      <th>Gender</th>\n",
       "      <th>HeightCm</th>\n",
       "      <th>WeightKg</th>\n",
       "      <th>BMI</th>\n",
       "    </tr>\n",
       "  </thead>\n",
       "  <tbody>\n",
       "    <tr>\n",
       "      <th>0</th>\n",
       "      <td>Male</td>\n",
       "      <td>171</td>\n",
       "      <td>96</td>\n",
       "      <td>32.830615</td>\n",
       "    </tr>\n",
       "    <tr>\n",
       "      <th>1</th>\n",
       "      <td>Male</td>\n",
       "      <td>161</td>\n",
       "      <td>85</td>\n",
       "      <td>32.791945</td>\n",
       "    </tr>\n",
       "    <tr>\n",
       "      <th>2</th>\n",
       "      <td>Male</td>\n",
       "      <td>180</td>\n",
       "      <td>77</td>\n",
       "      <td>23.765432</td>\n",
       "    </tr>\n",
       "    <tr>\n",
       "      <th>3</th>\n",
       "      <td>Female</td>\n",
       "      <td>166</td>\n",
       "      <td>62</td>\n",
       "      <td>22.499637</td>\n",
       "    </tr>\n",
       "    <tr>\n",
       "      <th>4</th>\n",
       "      <td>Female</td>\n",
       "      <td>150</td>\n",
       "      <td>70</td>\n",
       "      <td>31.111111</td>\n",
       "    </tr>\n",
       "    <tr>\n",
       "      <th>5</th>\n",
       "      <td>Female</td>\n",
       "      <td>167</td>\n",
       "      <td>82</td>\n",
       "      <td>29.402273</td>\n",
       "    </tr>\n",
       "  </tbody>\n",
       "</table>\n",
       "</div>"
      ],
      "text/plain": [
       "   Gender  HeightCm  WeightKg        BMI\n",
       "0    Male       171        96  32.830615\n",
       "1    Male       161        85  32.791945\n",
       "2    Male       180        77  23.765432\n",
       "3  Female       166        62  22.499637\n",
       "4  Female       150        70  31.111111\n",
       "5  Female       167        82  29.402273"
      ]
     },
     "metadata": {},
     "output_type": "display_data"
    }
   ],
   "source": [
    "display(df)"
   ]
  },
  {
   "cell_type": "code",
   "execution_count": 38,
   "id": "4edec54a-0036-4437-9c64-9a12f21779e3",
   "metadata": {},
   "outputs": [],
   "source": [
    "df['BMI Category'] = pd.cut(df['BMI'], bins=[0.0,18.5,25,30,35,40,np.inf], labels=['Underweight','Normal Weight','Overweight','Moderately obese','Severely obese','Very severely obese'],right=True)"
   ]
  },
  {
   "cell_type": "code",
   "execution_count": 39,
   "id": "35df38cc-1921-4c07-92fc-551473363461",
   "metadata": {},
   "outputs": [],
   "source": [
    "cat_to_risk = {'Underweight':'Malnutrition risk','Normal Weight':'Low risk','Overweight':'Enhanced risk','Moderately obese':'Medium risk','Severely obese':'High risk','Very severely obese':'Very high risk'}"
   ]
  },
  {
   "cell_type": "code",
   "execution_count": 40,
   "id": "e05cfe44-469a-4e06-befc-3dd8a2f11193",
   "metadata": {},
   "outputs": [],
   "source": [
    "df['Health risk'] = df['BMI Category'].apply(lambda x: cat_to_risk[x])"
   ]
  },
  {
   "cell_type": "code",
   "execution_count": 41,
   "id": "9560c0bd-411e-46cc-a652-5a2a25646fe5",
   "metadata": {},
   "outputs": [
    {
     "data": {
      "text/html": [
       "<div>\n",
       "<style scoped>\n",
       "    .dataframe tbody tr th:only-of-type {\n",
       "        vertical-align: middle;\n",
       "    }\n",
       "\n",
       "    .dataframe tbody tr th {\n",
       "        vertical-align: top;\n",
       "    }\n",
       "\n",
       "    .dataframe thead th {\n",
       "        text-align: right;\n",
       "    }\n",
       "</style>\n",
       "<table border=\"1\" class=\"dataframe\">\n",
       "  <thead>\n",
       "    <tr style=\"text-align: right;\">\n",
       "      <th></th>\n",
       "      <th>Gender</th>\n",
       "      <th>HeightCm</th>\n",
       "      <th>WeightKg</th>\n",
       "      <th>BMI</th>\n",
       "      <th>BMI Category</th>\n",
       "      <th>Health risk</th>\n",
       "    </tr>\n",
       "  </thead>\n",
       "  <tbody>\n",
       "    <tr>\n",
       "      <th>0</th>\n",
       "      <td>Male</td>\n",
       "      <td>171</td>\n",
       "      <td>96</td>\n",
       "      <td>32.830615</td>\n",
       "      <td>Moderately obese</td>\n",
       "      <td>Medium risk</td>\n",
       "    </tr>\n",
       "    <tr>\n",
       "      <th>1</th>\n",
       "      <td>Male</td>\n",
       "      <td>161</td>\n",
       "      <td>85</td>\n",
       "      <td>32.791945</td>\n",
       "      <td>Moderately obese</td>\n",
       "      <td>Medium risk</td>\n",
       "    </tr>\n",
       "    <tr>\n",
       "      <th>2</th>\n",
       "      <td>Male</td>\n",
       "      <td>180</td>\n",
       "      <td>77</td>\n",
       "      <td>23.765432</td>\n",
       "      <td>Normal Weight</td>\n",
       "      <td>Low risk</td>\n",
       "    </tr>\n",
       "    <tr>\n",
       "      <th>3</th>\n",
       "      <td>Female</td>\n",
       "      <td>166</td>\n",
       "      <td>62</td>\n",
       "      <td>22.499637</td>\n",
       "      <td>Normal Weight</td>\n",
       "      <td>Low risk</td>\n",
       "    </tr>\n",
       "    <tr>\n",
       "      <th>4</th>\n",
       "      <td>Female</td>\n",
       "      <td>150</td>\n",
       "      <td>70</td>\n",
       "      <td>31.111111</td>\n",
       "      <td>Moderately obese</td>\n",
       "      <td>Medium risk</td>\n",
       "    </tr>\n",
       "    <tr>\n",
       "      <th>5</th>\n",
       "      <td>Female</td>\n",
       "      <td>167</td>\n",
       "      <td>82</td>\n",
       "      <td>29.402273</td>\n",
       "      <td>Overweight</td>\n",
       "      <td>Enhanced risk</td>\n",
       "    </tr>\n",
       "  </tbody>\n",
       "</table>\n",
       "</div>"
      ],
      "text/plain": [
       "   Gender  HeightCm  WeightKg        BMI      BMI Category    Health risk\n",
       "0    Male       171        96  32.830615  Moderately obese    Medium risk\n",
       "1    Male       161        85  32.791945  Moderately obese    Medium risk\n",
       "2    Male       180        77  23.765432     Normal Weight       Low risk\n",
       "3  Female       166        62  22.499637     Normal Weight       Low risk\n",
       "4  Female       150        70  31.111111  Moderately obese    Medium risk\n",
       "5  Female       167        82  29.402273        Overweight  Enhanced risk"
      ]
     },
     "metadata": {},
     "output_type": "display_data"
    }
   ],
   "source": [
    "display(df)"
   ]
  },
  {
   "cell_type": "code",
   "execution_count": 42,
   "id": "525f40b1-00a6-48e0-b315-ce278ff511c2",
   "metadata": {},
   "outputs": [],
   "source": [
    "n_over = (df['BMI']>25).sum()"
   ]
  },
  {
   "cell_type": "code",
   "execution_count": 43,
   "id": "37456574-e5f7-4600-bd3e-c108d9807254",
   "metadata": {},
   "outputs": [
    {
     "data": {
      "text/plain": [
       "4"
      ]
     },
     "execution_count": 43,
     "metadata": {},
     "output_type": "execute_result"
    }
   ],
   "source": [
    "n_over"
   ]
  },
  {
   "cell_type": "code",
   "execution_count": null,
   "id": "299ebd3d-cc3e-4f7f-b57c-2ac15802bb48",
   "metadata": {},
   "outputs": [],
   "source": []
  }
 ],
 "metadata": {
  "kernelspec": {
   "display_name": "Python 3 (ipykernel)",
   "language": "python",
   "name": "python3"
  },
  "language_info": {
   "codemirror_mode": {
    "name": "ipython",
    "version": 3
   },
   "file_extension": ".py",
   "mimetype": "text/x-python",
   "name": "python",
   "nbconvert_exporter": "python",
   "pygments_lexer": "ipython3",
   "version": "3.9.12"
  }
 },
 "nbformat": 4,
 "nbformat_minor": 5
}
